{
  "nbformat": 4,
  "nbformat_minor": 0,
  "metadata": {
    "colab": {
      "provenance": [],
      "authorship_tag": "ABX9TyNV0sLnfgbVKaUK0Gbl4Kxw",
      "include_colab_link": true
    },
    "kernelspec": {
      "name": "python3",
      "display_name": "Python 3"
    },
    "language_info": {
      "name": "python"
    }
  },
  "cells": [
    {
      "cell_type": "markdown",
      "metadata": {
        "id": "view-in-github",
        "colab_type": "text"
      },
      "source": [
        "<a href=\"https://colab.research.google.com/github/vivi928/m.m/blob/main/%E6%89%BE%E5%9C%96%E7%89%87_%E4%B8%A6%E4%B8%8B%E8%BC%89.ipynb\" target=\"_parent\"><img src=\"https://colab.research.google.com/assets/colab-badge.svg\" alt=\"Open In Colab\"/></a>"
      ]
    },
    {
      "cell_type": "code",
      "execution_count": null,
      "metadata": {
        "colab": {
          "base_uri": "https://localhost:8080/",
          "height": 383
        },
        "id": "sLUB40cv6MTr",
        "outputId": "efe071d9-578a-42a3-dc88-3b0918e023f2"
      },
      "outputs": [
        {
          "output_type": "error",
          "ename": "ModuleNotFoundError",
          "evalue": "No module named 'webdriver_manager'",
          "traceback": [
            "\u001b[0;31m---------------------------------------------------------------------------\u001b[0m",
            "\u001b[0;31mModuleNotFoundError\u001b[0m                       Traceback (most recent call last)",
            "\u001b[0;32m<ipython-input-9-45a60bdb781e>\u001b[0m in \u001b[0;36m<cell line: 8>\u001b[0;34m()\u001b[0m\n\u001b[1;32m      6\u001b[0m \u001b[0;32mimport\u001b[0m \u001b[0mrequests\u001b[0m\u001b[0;34m\u001b[0m\u001b[0;34m\u001b[0m\u001b[0m\n\u001b[1;32m      7\u001b[0m \u001b[0;32mimport\u001b[0m \u001b[0mos\u001b[0m\u001b[0;34m\u001b[0m\u001b[0;34m\u001b[0m\u001b[0m\n\u001b[0;32m----> 8\u001b[0;31m \u001b[0;32mfrom\u001b[0m \u001b[0mwebdriver_manager\u001b[0m\u001b[0;34m.\u001b[0m\u001b[0mchrome\u001b[0m \u001b[0;32mimport\u001b[0m \u001b[0mChromeDriverManager\u001b[0m\u001b[0;34m\u001b[0m\u001b[0;34m\u001b[0m\u001b[0m\n\u001b[0m\u001b[1;32m      9\u001b[0m \u001b[0;34m\u001b[0m\u001b[0m\n\u001b[1;32m     10\u001b[0m \u001b[0;31m# 設定搜尋關鍵字和下載資料夾\u001b[0m\u001b[0;34m\u001b[0m\u001b[0;34m\u001b[0m\u001b[0m\n",
            "\u001b[0;31mModuleNotFoundError\u001b[0m: No module named 'webdriver_manager'",
            "",
            "\u001b[0;31m---------------------------------------------------------------------------\u001b[0;32m\nNOTE: If your import is failing due to a missing package, you can\nmanually install dependencies using either !pip or !apt.\n\nTo view examples of installing some common dependencies, click the\n\"Open Examples\" button below.\n\u001b[0;31m---------------------------------------------------------------------------\u001b[0m\n"
          ],
          "errorDetails": {
            "actions": [
              {
                "action": "open_url",
                "actionText": "Open Examples",
                "url": "/notebooks/snippets/importing_libraries.ipynb"
              }
            ]
          }
        }
      ],
      "source": [
        "from selenium import webdriver\n",
        "from selenium.webdriver.chrome.service import Service\n",
        "from selenium.webdriver.common.by import By\n",
        "from selenium.webdriver.common.keys import Keys\n",
        "import time\n",
        "import requests\n",
        "import os\n",
        "from webdriver_manager.chrome import ChromeDriverManager\n",
        "\n",
        "# 設定搜尋關鍵字和下載資料夾\n",
        "search_query = \"green outfit for female office worker 25-35\"\n",
        "output_directory = \"green_images\"\n",
        "\n",
        "# 建立存放圖片的資料夾\n",
        "if not os.path.exists(output_directory):\n",
        "    os.makedirs(output_directory)\n",
        "\n",
        "# 初始化 Selenium WebDriver\n",
        "def initialize_browser():\n",
        "    service = Service(ChromeDriverManager().install())\n",
        "    options = webdriver.ChromeOptions()\n",
        "    driver = webdriver.Chrome(service=service, options=options)\n",
        "    return driver\n",
        "\n",
        "# 搜尋圖片並下載\n",
        "def download_images():\n",
        "    driver = initialize_browser()\n",
        "    driver.get(\"https://images.google.com/\")\n",
        "\n",
        "    # 搜尋圖片\n",
        "    search_box = driver.find_element(By.NAME, \"q\")\n",
        "    search_box.send_keys(search_query)\n",
        "    search_box.send_keys(Keys.RETURN)\n",
        "    time.sleep(3)  # 增加等待時間，確保搜尋結果加載\n",
        "\n",
        "    # 滾動頁面以加載更多圖片\n",
        "    for _ in range(10):  # 增加滾動的次數\n",
        "        driver.execute_script(\"window.scrollBy(0,document.body.scrollHeight)\")\n",
        "        time.sleep(2)\n",
        "\n",
        "    # 抓取圖片元素\n",
        "    images = driver.find_elements(By.CSS_SELECTOR, \"img.Q4LuWd\")  # Google 圖片的 CSS 選擇器\n",
        "    count = 0\n",
        "    print(f\"找到 {len(images)} 張圖片\")  # 打印出找到的圖片數量\n",
        "\n",
        "    for img in images:\n",
        "        try:\n",
        "            # 嘗試從 img 元素中抓取高解析度圖片的 URL\n",
        "            img_url = img.get_attribute(\"data-src\") or img.get_attribute(\"src\") or img.get_attribute(\"srcset\")\n",
        "            print(f\"圖片 URL: {img_url}\")  # 打印出圖片 URL 以供檢查\n",
        "\n",
        "            if img_url and \"http\" in img_url:\n",
        "                # 下載圖片\n",
        "                response = requests.get(img_url, stream=True)\n",
        "                if response.status_code == 200:  # 確保請求成功\n",
        "                    file_name = os.path.join(output_directory, f\"image_{count:03d}.jpg\")\n",
        "                    with open(file_name, \"wb\") as file:\n",
        "                        for chunk in response.iter_content(1024):\n",
        "                            file.write(chunk)\n",
        "                    print(f\"已下載圖片: {file_name}\")\n",
        "                    count += 1\n",
        "                if count >= 10:  # 限制下載數量\n",
        "                    break\n",
        "        except Exception as e:\n",
        "            print(f\"下載圖片失敗: {e}\")\n",
        "\n",
        "    driver.quit()\n",
        "    print(f\"完成下載，共下載 {count} 張圖片到資料夾: {output_directory}\")\n",
        "\n",
        "if __name__ == \"__main__\":\n",
        "    download_images()\n"
      ]
    },
    {
      "cell_type": "code",
      "source": [
        "!pip install selenium"
      ],
      "metadata": {
        "colab": {
          "base_uri": "https://localhost:8080/"
        },
        "id": "2JLsVYGr6VRa",
        "outputId": "57e7d308-92c7-4cf5-bc30-667815d1d9b9"
      },
      "execution_count": null,
      "outputs": [
        {
          "output_type": "stream",
          "name": "stdout",
          "text": [
            "Requirement already satisfied: selenium in /usr/local/lib/python3.10/dist-packages (4.27.1)\n",
            "Requirement already satisfied: urllib3<3,>=1.26 in /usr/local/lib/python3.10/dist-packages (from urllib3[socks]<3,>=1.26->selenium) (2.2.3)\n",
            "Requirement already satisfied: trio~=0.17 in /usr/local/lib/python3.10/dist-packages (from selenium) (0.27.0)\n",
            "Requirement already satisfied: trio-websocket~=0.9 in /usr/local/lib/python3.10/dist-packages (from selenium) (0.11.1)\n",
            "Requirement already satisfied: certifi>=2021.10.8 in /usr/local/lib/python3.10/dist-packages (from selenium) (2024.8.30)\n",
            "Requirement already satisfied: typing_extensions~=4.9 in /usr/local/lib/python3.10/dist-packages (from selenium) (4.12.2)\n",
            "Requirement already satisfied: websocket-client~=1.8 in /usr/local/lib/python3.10/dist-packages (from selenium) (1.8.0)\n",
            "Requirement already satisfied: attrs>=23.2.0 in /usr/local/lib/python3.10/dist-packages (from trio~=0.17->selenium) (24.2.0)\n",
            "Requirement already satisfied: sortedcontainers in /usr/local/lib/python3.10/dist-packages (from trio~=0.17->selenium) (2.4.0)\n",
            "Requirement already satisfied: idna in /usr/local/lib/python3.10/dist-packages (from trio~=0.17->selenium) (3.10)\n",
            "Requirement already satisfied: outcome in /usr/local/lib/python3.10/dist-packages (from trio~=0.17->selenium) (1.3.0.post0)\n",
            "Requirement already satisfied: sniffio>=1.3.0 in /usr/local/lib/python3.10/dist-packages (from trio~=0.17->selenium) (1.3.1)\n",
            "Requirement already satisfied: exceptiongroup in /usr/local/lib/python3.10/dist-packages (from trio~=0.17->selenium) (1.2.2)\n",
            "Requirement already satisfied: wsproto>=0.14 in /usr/local/lib/python3.10/dist-packages (from trio-websocket~=0.9->selenium) (1.2.0)\n",
            "Requirement already satisfied: pysocks!=1.5.7,<2.0,>=1.5.6 in /usr/local/lib/python3.10/dist-packages (from urllib3[socks]<3,>=1.26->selenium) (1.7.1)\n",
            "Requirement already satisfied: h11<1,>=0.9.0 in /usr/local/lib/python3.10/dist-packages (from wsproto>=0.14->trio-websocket~=0.9->selenium) (0.14.0)\n"
          ]
        }
      ]
    }
  ]
}